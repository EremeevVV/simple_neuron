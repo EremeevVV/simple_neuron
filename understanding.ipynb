{
 "cells": [
  {
   "cell_type": "markdown",
   "source": [
    "Исскуственный нейрон это математическая функция, всю прелесть адаптации осуществляет метод обратного распространения ошибки\n",
    "формула нейрона:\n",
    "$$f(x) = w*x + b$$\n",
    "x - входное значение или вектор\n",
    "w - вес\n",
    "b - смещение\n",
    "Помимо линейной части выходное значение проходит этап нелинейного преобразования, в данном примере я буду использовать сигмоиду\n",
    "$$predict = sigma(f) = \\frac {1}{1+e^{-f(x)}}$$\n",
    "Значение sigma(f) становится выходным значением predict\n",
    "Далее вычмслям функцию ошибки в нашем случае это среднеквадратичная ошибка MSE\n",
    "$$MSE(sigma) = \\sum(predict - true)^{2}$$\n"
   ],
   "metadata": {
    "collapsed": false
   }
  },
  {
   "cell_type": "code",
   "execution_count": 25,
   "outputs": [],
   "source": [
    "import math\n",
    "import numpy as np\n",
    "from matplotlib import pyplot as plt\n",
    "\n",
    "\n",
    "class Neuron:\n",
    "    # стартовая инициализация весов\n",
    "    def __init__(self, w: float, b: float, learning_rate: float, next_neuron=None) -> None:\n",
    "        self.w: float = w\n",
    "        self.b: float = b\n",
    "        self.learning_rate: float = learning_rate\n",
    "        self.next_neuron: Neuron = next_neuron\n",
    "\n",
    "    def linear(self, x: float) -> float:\n",
    "        return self.w * x + self.b\n",
    "\n",
    "    def sigmoid(self, x: float) -> float:\n",
    "        return 1 / (1 + math.e ** (-1 * self.linear(x)))\n",
    "\n",
    "    def loss(self, pred:float, y:float) -> float:\n",
    "        return (pred- y) ** 2\n",
    "\n",
    "    def loss_gradient(self, x: float, y: float) -> float:\n",
    "        return 2 * (y - self.sigmoid(x))\n",
    "\n",
    "    def gradient_w(self, x: float) -> float:\n",
    "        return self.sigmoid(x) * (1 - self.sigmoid(x)) * x\n",
    "\n",
    "    def gradient_b(self, x: float) -> float:\n",
    "        return self.sigmoid(x) * (1 - self.sigmoid(x))\n",
    "\n",
    "    def back_prop(self, x: float, y: float = None) -> None:\n",
    "        next_grad_w,next_grad_b,loss_grad = 1,1,1\n",
    "        if self.next_neuron is None:\n",
    "            loss_grad = self.loss_gradient(x,y)\n",
    "        else:\n",
    "            next_grad_w = self.next_neuron.gradient_w(self.sigmoid(x))\n",
    "            next_grad_b = self.next_neuron.gradient_b(self.sigmoid(x))\n",
    "        self.w = self.w - next_grad_w * loss_grad * self.gradient_w(x) * self.learning_rate\n",
    "        self.b = self.b - next_grad_b * loss_grad * self.gradient_b(x) * self.learning_rate\n",
    "\n",
    "    def plot_sigmoid(self, X: list[float], Y: list[float]):\n",
    "        plt.scatter(X, Y)\n",
    "        plt.plot(X, [self.sigmoid(x) for x in X])"
   ],
   "metadata": {
    "collapsed": false
   }
  },
  {
   "cell_type": "markdown",
   "source": [
    "Для обратного распространения ошибки надо вычислить частные производные по коэфициентам w и b\n",
    "$$ \\frac{\\partial MSE}{\\partial \\sigma} = 2*(\\sigma -y) $$\n",
    "$$ \\frac{\\partial \\sigma}{\\partial f} = \\frac {e^{-f}} {(1+e^{-f})^{2}} = \\sigma(f)*(1-\\sigma(f)) $$\n",
    "$$ \\frac{\\partial \\sigma}{\\partial w} = x $$\n",
    "$$ \\frac {\\partial f}{\\partial b} = 1 $$\n",
    "$$ \\frac{\\partial MSE}{\\partial w}= \\frac{\\partial MSE}{\\partial \\sigma} * \\frac{\\partial \\sigma}{\\partial f} * \\frac{\\partial \\sigma}{\\partial f} $$\n",
    "$$ \\frac{\\partial MSE}{\\partial w}= 2*(\\sigma(f) -y) * \\sigma(f)*(1-\\sigma(f)) * x $$\n",
    "$$ \\frac{\\partial MSE}{\\partial b}= \\frac{\\partial MSE}{\\partial \\sigma} * \\frac{\\partial \\sigma}{\\partial f} $$\n",
    "$$ \\frac{\\partial MSE}{\\partial b}= 2*(\\sigma(f) -y) * \\sigma(f)*(1-\\sigma(f)) $$\n",
    "\n"
   ],
   "metadata": {
    "collapsed": false
   }
  },
  {
   "cell_type": "code",
   "execution_count": 26,
   "outputs": [
    {
     "name": "stdout",
     "output_type": "stream",
     "text": [
      "\n",
      "Iteration step 0. Weight = 0.5, bias = 0.4\n",
      "Prediction = 0.65701 Loss = 0.02045\n",
      "\n",
      "Iteration step 1. Weight = 0.6611118272490951, bias = 0.713719697580604\n",
      "Prediction = 0.73967 Loss = 0.00364\n",
      "\n",
      "Iteration step 2. Weight = 0.7191924453996987, bias = 0.8282566084246183\n",
      "Prediction = 0.76636 Loss = 0.00113\n",
      "\n",
      "Iteration step 3. Weight = 0.7493121778452458, bias = 0.8880123096032755\n",
      "Prediction = 0.77949 Loss = 0.00042\n",
      "\n",
      "Iteration step 4. Weight = 0.7669434972003827, bias = 0.9231011443735513\n",
      "Prediction = 0.78694 Loss = 0.00017\n"
     ]
    }
   ],
   "source": [
    "lr = 5\n",
    "neuron1 = Neuron(w=0.5, b=0.4,learning_rate=lr)\n",
    "x = 0.5\n",
    "y = 0.8\n",
    "for i in range(5):\n",
    "    print(f'\\nIteration step {i}. Weight = {neuron1.w}, bias = {neuron1.b}')\n",
    "    print(f'Prediction = {neuron1.sigmoid(x):.5f} Loss = {neuron1.loss(neuron1.sigmoid(x), y):.5f}')\n",
    "    neuron1.back_prop(x, y)"
   ],
   "metadata": {
    "collapsed": false
   }
  },
  {
   "cell_type": "markdown",
   "source": [
    "Выходная функция нейрона - та функция нейлинейности, которую мы выбрали. В нашем случае это сигмоида. Коэфициенты линейной части нейрона отвечают за форму этой сигмоиды. Вес \"w\" отвечает за масштаб сигмоиды по оси Х, смещение \"b\" - за расположение сигмоиды по оси X. Попробуем визулизировать изменение сигмоиды во времени. Для наглядности задам около 10 точек в двумерном пространстве в интервале 0-1. Градиентный спуск очень чувствителен к масштабированию признаков. Желательно сделать входной и выходной признак в одном масштабе. Иначе мы встретим взрывнй рост или затухание коэфициентов, что в свою очередь сказывается на результатах. Также существует взаимосвязь между начальным весом и множителем обучения Learning rate, но мне пока не понятно."
   ],
   "metadata": {
    "collapsed": false
   }
  },
  {
   "cell_type": "code",
   "execution_count": 30,
   "outputs": [
    {
     "name": "stdout",
     "output_type": "stream",
     "text": [
      "For 0 epoch  loss = 0.13285365975205699. W=4.7936797301014, b=-0.41203455922444443\n",
      "For 1 epoch  loss = 0.058543946856137695. W=4.546241945589529, b=-1.2091211212953765\n",
      "For 2 epoch  loss = 0.018177686751546115. W=4.349418336753272, b=-1.6613470615837271\n",
      "For 3 epoch  loss = 0.006201127479889526. W=4.222491434205973, b=-1.8731965777098047\n",
      "For 4 epoch  loss = 0.00363435450472543. W=4.142508214918684, b=-1.9618601948393204\n",
      "For 5 epoch  loss = 0.003194336041041422. W=4.087773025532586, b=-1.9924360006359674\n",
      "For 6 epoch  loss = 0.003103609431989618. W=4.045645877094691, b=-1.9965131701062595\n",
      "For 7 epoch  loss = 0.003030237497259522. W=4.009782079112654, b=-1.9888056765860074\n",
      "For 8 epoch  loss = 0.0029377756639768307. W=3.977187277845215, b=-1.9760441006923726\n",
      "For 9 epoch  loss = 0.0028342992710777997. W=3.9464905640700887, b=-1.9612704521112732\n",
      "For 10 epoch  loss = 0.0027283028367745535. W=3.917074720478818, b=-1.9458456364829804\n",
      "For 11 epoch  loss = 0.0026244009634533738. W=3.888664053740509, b=-1.9303725031217374\n",
      "For 12 epoch  loss = 0.0025246785936498925. W=3.8611349305607154, b=-1.9151152519451111\n",
      "For 13 epoch  loss = 0.0024299534258139886. W=3.834430286232882, b=-1.9001880261623099\n",
      "For 14 epoch  loss = 0.0023404620912260135. W=3.808521573916577, b=-1.8856388913424038\n"
     ]
    },
    {
     "data": {
      "text/plain": "<Figure size 640x480 with 1 Axes>",
      "image/png": "[encoded data removed]"
     },
     "metadata": {},
     "output_type": "display_data"
    }
   ],
   "source": [
    "X = np.linspace(0, 1, 10)\n",
    "Y = [0.1, 0.24, 0.34, 0.4, 0.5, 0.55, 0.66, 0.72, 0.8, 0.79]\n",
    "lr = 1\n",
    "neuron2 = Neuron(w=5, b=0.5,learning_rate=lr)\n",
    "num_epochs = 15\n",
    "loss_lst = []\n",
    "for epoch in range(num_epochs):\n",
    "    epoch_loss = 0\n",
    "    for x, y in zip(X, Y):\n",
    "        epoch_loss += neuron2.loss(neuron2.sigmoid(x), y)\n",
    "        neuron2.back_prop(x, y)\n",
    "    epoch_loss /= len(X)\n",
    "    loss_lst.append(epoch_loss)\n",
    "    print(f'For {epoch} epoch  loss = {epoch_loss}. W={neuron2.w}, b={neuron2.b}')\n",
    "    if epoch % 3 == 0:\n",
    "        neuron2.plot_sigmoid(X, Y)"
   ],
   "metadata": {
    "collapsed": false
   }
  },
  {
   "cell_type": "markdown",
   "source": [
    "Теперь можно попробовать соединить два нейрона один за другим и посмотреть как они преобразуют сигнал. Надо понять как от нейрона к нейрону передается градиент на веса."
   ],
   "metadata": {
    "collapsed": false
   }
  },
  {
   "cell_type": "code",
   "execution_count": 31,
   "outputs": [
    {
     "name": "stdout",
     "output_type": "stream",
     "text": [
      "For 0 epoch  loss = 0.05078241118945585. neuron2 W=4.97957271623756, b=2.8330871432889677, neuron1 W=0.9964717356081251, b=-1.019978760320213\n",
      "For 1 epoch  loss = 0.05097211479054855. neuron2 W=4.955009600412884, b=2.637407838824823, neuron1 W=0.9921111762073475, b=-1.0446685479061042\n",
      "For 2 epoch  loss = 0.05136876225987878. neuron2 W=4.924476900797081, b=2.4022166151530375, neuron1 W=0.9864962750473157, b=-1.0764453788391757\n",
      "For 3 epoch  loss = 0.05218202452610086. neuron2 W=4.884758484888972, b=2.1101712430946664, neuron1 W=0.9788373055128783, b=-1.11975081182311\n",
      "For 4 epoch  loss = 0.053938615853371875. neuron2 W=4.82967181756074, b=1.7316344123696334, neuron1 W=0.9674785154012698, b=-1.1839302001373704\n",
      "For 5 epoch  loss = 0.05818533395933171. neuron2 W=4.74608388297726, b=1.2140632838838452, neuron1 W=0.948491703583692, b=-1.291667913740046\n",
      "For 6 epoch  loss = 0.0699579953833946. neuron2 W=4.605447718212711, b=0.47588293719082114, neuron1 W=0.9128883335527312, b=-1.5017002010338303\n",
      "For 7 epoch  loss = 0.09999567645317821. neuron2 W=4.375711134327143, b=-0.47328310793548434, neuron1 W=0.8611577356188319, b=-1.8708711933415372\n",
      "For 8 epoch  loss = 0.14515353056278213. neuron2 W=4.127774954337449, b=-1.2323952810935024, neuron1 W=0.8268532235427654, b=-2.215771481286442\n",
      "For 9 epoch  loss = 0.1807276016745371. neuron2 W=3.9589333208675863, b=-1.609512456602378, neuron1 W=0.8082549222816525, b=-2.4498791510617464\n"
     ]
    }
   ],
   "source": [
    "lr = 1\n",
    "neuron2 = Neuron(w=5, b=3,learning_rate=lr)\n",
    "neuron1 = Neuron(w=1, b=-1,learning_rate=lr,next_neuron=neuron2)\n",
    "num_epochs = 10\n",
    "loss_lst = []\n",
    "for epoch in range(num_epochs):\n",
    "    epoch_loss = 0\n",
    "    for x, y in zip(X, Y):\n",
    "        epoch_loss += neuron2.loss(neuron1.sigmoid(neuron2.sigmoid(x)), y)\n",
    "        neuron1.back_prop(x)\n",
    "        neuron2.back_prop(x, y)\n",
    "    epoch_loss /= len(X)\n",
    "    loss_lst.append(epoch_loss)\n",
    "    print(f'For {epoch} epoch  loss = {epoch_loss}. neuron2 W={neuron2.w}, b={neuron2.b}, neuron1 W={neuron1.w}, b={neuron1.b}')\n",
    "    # if epoch % 2 == 0:\n",
    "    #     neuron2.plot_sigmoid(X, Y)\n"
   ],
   "metadata": {
    "collapsed": false
   }
  },
  {
   "cell_type": "code",
   "execution_count": null,
   "outputs": [],
   "source": [],
   "metadata": {
    "collapsed": false
   }
  }
 ],
 "metadata": {
  "kernelspec": {
   "display_name": "Python 3",
   "language": "python",
   "name": "python3"
  },
  "language_info": {
   "codemirror_mode": {
    "name": "ipython",
    "version": 2
   },
   "file_extension": ".py",
   "mimetype": "text/x-python",
   "name": "python",
   "nbconvert_exporter": "python",
   "pygments_lexer": "ipython2",
   "version": "2.7.6"
  }
 },
 "nbformat": 4,
 "nbformat_minor": 0
}
