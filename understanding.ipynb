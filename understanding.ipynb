{
 "cells": [
  {
   "cell_type": "markdown",
   "source": [
    "Исскуственный нейрон это математическая функция, всю прелесть адаптации осуществляет метод обратного распространения ошибки\n",
    "формула нейрона:\n",
    "f(x) = w*x + b\n",
    "x - входное значение или вектор\n",
    "w - вес\n",
    "и - смещение\n",
    "Помимо линейной части выходное значение проходит этап нелинейного преобразования, в данном примере я буду использовать сигмоиду\n",
    "predict = sigma(f) = 1/(1+exp(-f))\n",
    "Значение sigma(f) становится выходным значением predict\n",
    "Далее вычмслям функцию ошибки в нашем случае это среднеквадратичная ошибка MSE\n",
    "MSE(sigma) = (predict - true)**2\n"
   ],
   "metadata": {
    "collapsed": false
   }
  },
  {
   "cell_type": "code",
   "execution_count": 1,
   "outputs": [],
   "source": [
    "import math\n",
    "\n",
    "\n",
    "class Neuron:\n",
    "    # стартовая инициализация весов\n",
    "    def __init__(self,w:float,b:float)->None:\n",
    "        self.w: float = w\n",
    "        self.b: float = b\n",
    "\n",
    "    def linear(self, x: float) -> float:\n",
    "        return self.w * x + self.b\n",
    "\n",
    "    def sigmoid(self, x: float)->float:\n",
    "        return 1 / (1 + math.e ** (-1 * self.linear(x)))\n",
    "\n",
    "    def loss(self,x:float,y:float)-> float:\n",
    "        return (self.sigmoid(self.linear(x)) - y) ** 2\n",
    "\n",
    "    def dmse_by_dw(self,x,y)-> float:\n",
    "        return 2*(self.sigmoid(x) -y) * self.sigmoid(x) *(1-self.sigmoid(x) ) * self.w\n",
    "\n",
    "    def dmse_by_db(self,x,y)-> float:\n",
    "        return 2*(self.sigmoid(x) -y) * self.sigmoid(x) *(1-self.sigmoid(x) )\n",
    "\n",
    "    def back_prop(self,x,y,learning_rate:float) -> None:\n",
    "        print(f\"Before backprop {self.w}*x ={self.b}\")\n",
    "        self.w = self.dmse_by_dw(x,y) * learning_rate\n",
    "        self.b = self.dmse_by_db(x,y) * learning_rate\n",
    "        print(f\"After backprop {self.w}*x ={self.b}\")\n"
   ],
   "metadata": {
    "collapsed": false
   }
  },
  {
   "cell_type": "markdown",
   "source": [
    "Для обратного распространения ошибки надо вычислить частные производные по коэфициентам w и b\n",
    "d(MSE)/d(sigma) = 2*(sigma -y)\n",
    "d(sigma)/d(f) = (e**(-f))/(1+e**(-f))**2 = sigma(f)*(1-sigma(f))\n",
    "d(f)/d(w) = w\n",
    "d(f)/d(b) = 1\n",
    "d(mse) / dw = d(MSE)/d(sigma) * d(sigma)/d(f) * d(f)/d(w)\n",
    "d(mse) / dw = 2*(sigma -y) * sigma(f)*(1-sigma(f)) * w\n",
    "d(mse) / db = d(MSE)/d(sigma) * d(sigma)/d(f)\n",
    "d(mse) / db = 2*(sigma -y) * sigma(f)*(1-sigma(f))\n",
    "\n"
   ],
   "metadata": {
    "collapsed": false
   }
  },
  {
   "cell_type": "code",
   "execution_count": null,
   "outputs": [],
   "source": [
    "neuron1 = Neuron()"
   ],
   "metadata": {
    "collapsed": false
   }
  }
 ],
 "metadata": {
  "kernelspec": {
   "display_name": "Python 3",
   "language": "python",
   "name": "python3"
  },
  "language_info": {
   "codemirror_mode": {
    "name": "ipython",
    "version": 2
   },
   "file_extension": ".py",
   "mimetype": "text/x-python",
   "name": "python",
   "nbconvert_exporter": "python",
   "pygments_lexer": "ipython2",
   "version": "2.7.6"
  }
 },
 "nbformat": 4,
 "nbformat_minor": 0
}
